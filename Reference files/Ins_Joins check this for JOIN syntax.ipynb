{
 "cells": [
  {
   "cell_type": "markdown",
   "metadata": {},
   "source": [
    "# SQLAlchemy Joins"
   ]
  },
  {
   "cell_type": "markdown",
   "metadata": {},
   "source": [
    "## Setup"
   ]
  },
  {
   "cell_type": "code",
   "execution_count": 1,
   "metadata": {
    "collapsed": true
   },
   "outputs": [],
   "source": [
    "# Python SQL toolkit and Object Relational Mapper\n",
    "import sqlalchemy\n",
    "from sqlalchemy.ext.automap import automap_base\n",
    "from sqlalchemy.orm import Session\n",
    "from sqlalchemy import create_engine"
   ]
  },
  {
   "cell_type": "code",
   "execution_count": 2,
   "metadata": {
    "collapsed": true
   },
   "outputs": [],
   "source": [
    "engine = create_engine(\"sqlite:///mammal_masses.sqlite\")"
   ]
  },
  {
   "cell_type": "code",
   "execution_count": 3,
   "metadata": {},
   "outputs": [
    {
     "data": {
      "text/plain": [
       "['ea', 'na']"
      ]
     },
     "execution_count": 3,
     "metadata": {},
     "output_type": "execute_result"
    }
   ],
   "source": [
    "# Reflect Database into ORM classes\n",
    "Base = automap_base()\n",
    "Base.prepare(engine, reflect=True)\n",
    "Base.classes.keys()"
   ]
  },
  {
   "cell_type": "code",
   "execution_count": 4,
   "metadata": {
    "collapsed": true
   },
   "outputs": [],
   "source": [
    "# Map Europe class\n",
    "EA = Base.classes.ea"
   ]
  },
  {
   "cell_type": "code",
   "execution_count": 5,
   "metadata": {
    "collapsed": true
   },
   "outputs": [],
   "source": [
    "# Map North American class\n",
    "NA = Base.classes.na"
   ]
  },
  {
   "cell_type": "code",
   "execution_count": 6,
   "metadata": {
    "collapsed": true
   },
   "outputs": [],
   "source": [
    "# create a session\n",
    "session = Session(engine)"
   ]
  },
  {
   "cell_type": "markdown",
   "metadata": {},
   "source": [
    "## Filtering Review"
   ]
  },
  {
   "cell_type": "markdown",
   "metadata": {
    "collapsed": true
   },
   "source": [
    "Filters are the \"WHERE\" clause for your select statement. "
   ]
  },
  {
   "cell_type": "code",
   "execution_count": 8,
   "metadata": {},
   "outputs": [
    {
     "name": "stdout",
     "output_type": "stream",
     "text": [
      "Family: Antilocapridae, Genus: Antilocapra\n"
     ]
    }
   ],
   "source": [
    "# filter North American mammals whose genus is \"Antilocapra\"\n",
    "# query, loop over and print out animals.\n",
    "mammals = session.query(NA).filter(NA.genus == 'Antilocapra').all()\n",
    "for mammal in mammals:\n",
    "    print(\"Family: {0}, Genus: {1}\".format(mammal.family, mammal.genus))"
   ]
  },
  {
   "cell_type": "markdown",
   "metadata": {},
   "source": [
    "## Joins"
   ]
  },
  {
   "cell_type": "markdown",
   "metadata": {
    "collapsed": true
   },
   "source": [
    "A SQL join combines columns from one or more tables in a relational database. \n",
    "\n",
    "It creates a set that can be saved as a table or used as it is. \n",
    "\n",
    "A JOIN is a means for combining columns from one (self-table) or more tables by using values common to each."
   ]
  },
  {
   "cell_type": "code",
   "execution_count": 7,
   "metadata": {},
   "outputs": [
    {
     "name": "stdout",
     "output_type": "stream",
     "text": [
      "The European animal 'Bovidae Antilope cervicapra'belongs to the same sporder as the North American aniimal 'Antilocapridae Antilocapra americana'.\n",
      "The European animal 'Bovidae Antilope cervicapra'belongs to the same sporder as the North American aniimal 'Antilocapridae Capromeryx mexicana'.\n",
      "The European animal 'Bovidae Antilope cervicapra'belongs to the same sporder as the North American aniimal 'Antilocapridae Capromeryx minor'.\n",
      "The European animal 'Bovidae Antilope cervicapra'belongs to the same sporder as the North American aniimal 'Antilocapridae Stockoceros conklingi'.\n",
      "The European animal 'Bovidae Antilope cervicapra'belongs to the same sporder as the North American aniimal 'Antilocapridae Stockoceros onusrosagris'.\n",
      "The European animal 'Bovidae Antilope cervicapra'belongs to the same sporder as the North American aniimal 'Antilocapridae Tetrameryx shuleri'.\n",
      "The European animal 'Bovidae Antilope cervicapra'belongs to the same sporder as the North American aniimal 'Bovidae Bison bison'.\n",
      "The European animal 'Bovidae Antilope cervicapra'belongs to the same sporder as the North American aniimal 'Bovidae Bison latifrons'.\n",
      "The European animal 'Bovidae Antilope cervicapra'belongs to the same sporder as the North American aniimal 'Bovidae Bison priscus'.\n",
      "The European animal 'Bovidae Antilope cervicapra'belongs to the same sporder as the North American aniimal 'Bovidae Bootherium bombifrons'.\n"
     ]
    }
   ],
   "source": [
    "# Return all animals from EA and NA belonging to the same sporder.\n",
    "# This JOINs the data in the two tables together into a single dataset (here in the form of a tuple).\n",
    "# Note: We are going to limit the results to 10 for printing\n",
    "sel = [EA.family, EA.genus, EA.species, NA.family, NA.genus, NA.species]\n",
    "same_sporder = session.query(*sel).filter(EA.sporder == NA.sporder).limit(10).all()\n",
    "\n",
    "for record in same_sporder:\n",
    "    (ea_fam, ea_gen, ea_spec, na_fam, na_gen, na_spec) = record\n",
    "    print(\n",
    "        f\"The European animal '{ea_fam} {ea_gen} {ea_spec}'\"\n",
    "        f\"belongs to the same sporder as the North American aniimal '{na_fam} {na_gen} {na_spec}'.\")"
   ]
  },
  {
   "cell_type": "markdown",
   "metadata": {},
   "source": [
    "## Your Turn!"
   ]
  }
 ],
 "metadata": {
  "kernelspec": {
   "display_name": "Python 3",
   "language": "python",
   "name": "python3"
  },
  "language_info": {
   "codemirror_mode": {
    "name": "ipython",
    "version": 3
   },
   "file_extension": ".py",
   "mimetype": "text/x-python",
   "name": "python",
   "nbconvert_exporter": "python",
   "pygments_lexer": "ipython3",
   "version": "3.6.2"
  }
 },
 "nbformat": 4,
 "nbformat_minor": 2
}
