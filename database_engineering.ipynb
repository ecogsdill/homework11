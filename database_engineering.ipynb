{
 "cells": [
  {
   "cell_type": "code",
   "execution_count": 91,
   "metadata": {},
   "outputs": [],
   "source": [
    "from datetime import datetime\n",
    "import pandas as pd\n",
    "from sqlalchemy import create_engine\n",
    "from sqlalchemy.ext.declarative import declarative_base #convert python classes into SQL tables\n",
    "from sqlalchemy import Column, Integer, String, Float, text, Date\n",
    "import pymysql\n",
    "from sqlalchemy.orm import Session\n",
    "pymysql.install_as_MySQLdb()"
   ]
  },
  {
   "cell_type": "code",
   "execution_count": 84,
   "metadata": {},
   "outputs": [],
   "source": [
    "hawaii_measurements = pd.read_csv(\"./Resources/hawaii_measurements_clean.csv\")\n",
    "hawaii_stations = pd.read_csv(\"./Resources/hawaii_stations.csv\")\n",
    "\n",
    "hawaii_measurements=hawaii_measurements[['station','date','prcp','tobs']]"
   ]
  },
  {
   "cell_type": "code",
   "execution_count": 99,
   "metadata": {},
   "outputs": [
    {
     "data": {
      "text/html": [
       "<div>\n",
       "<style scoped>\n",
       "    .dataframe tbody tr th:only-of-type {\n",
       "        vertical-align: middle;\n",
       "    }\n",
       "\n",
       "    .dataframe tbody tr th {\n",
       "        vertical-align: top;\n",
       "    }\n",
       "\n",
       "    .dataframe thead th {\n",
       "        text-align: right;\n",
       "    }\n",
       "</style>\n",
       "<table border=\"1\" class=\"dataframe\">\n",
       "  <thead>\n",
       "    <tr style=\"text-align: right;\">\n",
       "      <th></th>\n",
       "      <th>station</th>\n",
       "      <th>date</th>\n",
       "      <th>prcp</th>\n",
       "      <th>tobs</th>\n",
       "    </tr>\n",
       "  </thead>\n",
       "  <tbody>\n",
       "    <tr>\n",
       "      <th>0</th>\n",
       "      <td>USC00519397</td>\n",
       "      <td>2010-01-01</td>\n",
       "      <td>0.08</td>\n",
       "      <td>65</td>\n",
       "    </tr>\n",
       "    <tr>\n",
       "      <th>1</th>\n",
       "      <td>USC00519397</td>\n",
       "      <td>2010-01-02</td>\n",
       "      <td>0.00</td>\n",
       "      <td>63</td>\n",
       "    </tr>\n",
       "    <tr>\n",
       "      <th>2</th>\n",
       "      <td>USC00519397</td>\n",
       "      <td>2010-01-03</td>\n",
       "      <td>0.00</td>\n",
       "      <td>74</td>\n",
       "    </tr>\n",
       "    <tr>\n",
       "      <th>3</th>\n",
       "      <td>USC00519397</td>\n",
       "      <td>2010-01-04</td>\n",
       "      <td>0.00</td>\n",
       "      <td>76</td>\n",
       "    </tr>\n",
       "    <tr>\n",
       "      <th>4</th>\n",
       "      <td>USC00519397</td>\n",
       "      <td>2010-01-07</td>\n",
       "      <td>0.06</td>\n",
       "      <td>70</td>\n",
       "    </tr>\n",
       "  </tbody>\n",
       "</table>\n",
       "</div>"
      ],
      "text/plain": [
       "       station        date  prcp  tobs\n",
       "0  USC00519397  2010-01-01  0.08    65\n",
       "1  USC00519397  2010-01-02  0.00    63\n",
       "2  USC00519397  2010-01-03  0.00    74\n",
       "3  USC00519397  2010-01-04  0.00    76\n",
       "4  USC00519397  2010-01-07  0.06    70"
      ]
     },
     "execution_count": 99,
     "metadata": {},
     "output_type": "execute_result"
    },
    {
     "data": {
      "text/html": [
       "<div>\n",
       "<style scoped>\n",
       "    .dataframe tbody tr th:only-of-type {\n",
       "        vertical-align: middle;\n",
       "    }\n",
       "\n",
       "    .dataframe tbody tr th {\n",
       "        vertical-align: top;\n",
       "    }\n",
       "\n",
       "    .dataframe thead th {\n",
       "        text-align: right;\n",
       "    }\n",
       "</style>\n",
       "<table border=\"1\" class=\"dataframe\">\n",
       "  <thead>\n",
       "    <tr style=\"text-align: right;\">\n",
       "      <th></th>\n",
       "      <th>station</th>\n",
       "      <th>name</th>\n",
       "      <th>latitude</th>\n",
       "      <th>longitude</th>\n",
       "      <th>elevation</th>\n",
       "    </tr>\n",
       "  </thead>\n",
       "  <tbody>\n",
       "    <tr>\n",
       "      <th>0</th>\n",
       "      <td>USC00519397</td>\n",
       "      <td>WAIKIKI 717.2, HI US</td>\n",
       "      <td>21.2716</td>\n",
       "      <td>-157.8168</td>\n",
       "      <td>3.0</td>\n",
       "    </tr>\n",
       "    <tr>\n",
       "      <th>1</th>\n",
       "      <td>USC00513117</td>\n",
       "      <td>KANEOHE 838.1, HI US</td>\n",
       "      <td>21.4234</td>\n",
       "      <td>-157.8015</td>\n",
       "      <td>14.6</td>\n",
       "    </tr>\n",
       "    <tr>\n",
       "      <th>2</th>\n",
       "      <td>USC00514830</td>\n",
       "      <td>KUALOA RANCH HEADQUARTERS 886.9, HI US</td>\n",
       "      <td>21.5213</td>\n",
       "      <td>-157.8374</td>\n",
       "      <td>7.0</td>\n",
       "    </tr>\n",
       "    <tr>\n",
       "      <th>3</th>\n",
       "      <td>USC00517948</td>\n",
       "      <td>PEARL CITY, HI US</td>\n",
       "      <td>21.3934</td>\n",
       "      <td>-157.9751</td>\n",
       "      <td>11.9</td>\n",
       "    </tr>\n",
       "    <tr>\n",
       "      <th>4</th>\n",
       "      <td>USC00518838</td>\n",
       "      <td>UPPER WAHIAWA 874.3, HI US</td>\n",
       "      <td>21.4992</td>\n",
       "      <td>-158.0111</td>\n",
       "      <td>306.6</td>\n",
       "    </tr>\n",
       "  </tbody>\n",
       "</table>\n",
       "</div>"
      ],
      "text/plain": [
       "       station                                    name  latitude  longitude  \\\n",
       "0  USC00519397                    WAIKIKI 717.2, HI US   21.2716  -157.8168   \n",
       "1  USC00513117                    KANEOHE 838.1, HI US   21.4234  -157.8015   \n",
       "2  USC00514830  KUALOA RANCH HEADQUARTERS 886.9, HI US   21.5213  -157.8374   \n",
       "3  USC00517948                       PEARL CITY, HI US   21.3934  -157.9751   \n",
       "4  USC00518838              UPPER WAHIAWA 874.3, HI US   21.4992  -158.0111   \n",
       "\n",
       "   elevation  \n",
       "0        3.0  \n",
       "1       14.6  \n",
       "2        7.0  \n",
       "3       11.9  \n",
       "4      306.6  "
      ]
     },
     "execution_count": 99,
     "metadata": {},
     "output_type": "execute_result"
    }
   ],
   "source": [
    "hawaii_measurements.head()\n",
    "hawaii_stations.head()"
   ]
  },
  {
   "cell_type": "code",
   "execution_count": 115,
   "metadata": {},
   "outputs": [
    {
     "data": {
      "text/plain": [
       "station     object\n",
       "date        object\n",
       "prcp       float64\n",
       "tobs         int64\n",
       "dtype: object"
      ]
     },
     "execution_count": 115,
     "metadata": {},
     "output_type": "execute_result"
    }
   ],
   "source": [
    "hawaii_measurements.dtypes"
   ]
  },
  {
   "cell_type": "code",
   "execution_count": 88,
   "metadata": {},
   "outputs": [],
   "source": [
    "Base = declarative_base()\n",
    "\n",
    "class Measurements(Base):\n",
    "    \n",
    "        __tablename__ = 'measurements'\n",
    "        id = Column(Integer, primary_key=True)\n",
    "        station = Column(String(255))\n",
    "        date = Column(Date)\n",
    "        prcp = Column(Float)\n",
    "        tobs = Column(Integer)\n",
    "        \n",
    "class Stations(Base):\n",
    "    \n",
    "        __tablename__ = 'stations'\n",
    "        id = Column(Integer, primary_key=True)\n",
    "        station = Column(String(255))\n",
    "        latitude = Column(Float)\n",
    "        longitude = Column(Float)\n",
    "        elevation = Column(Float)"
   ]
  },
  {
   "cell_type": "code",
   "execution_count": 120,
   "metadata": {},
   "outputs": [],
   "source": [
    "#Create and fill the Measurements table in SQLite\n",
    "\n",
    "engine=create_engine(\"sqlite:///../hawaii.sqlite\")\n",
    "session=Session(bind=engine)\n",
    "\n",
    "#drop the table if it exists\n",
    "sql = text('DROP TABLE IF EXISTS measurements;')\n",
    "result = engine.execute(sql)\n",
    "\n",
    "#Instantiate the table\n",
    "Base.metadata.create_all(engine)\n",
    "\n",
    "data = Measurements(\n",
    "                        id = 0,\n",
    "                        station = hawaii_measurements.loc[0,'station'],\n",
    "                        date = datetime.strptime(hawaii_measurements.loc[0,'date'], '%Y-%m-%d'),\n",
    "                        prcp = hawaii_measurements.loc[0,'prcp'],\n",
    "                        tobs = int(hawaii_measurements.loc[0,'tobs']) #not sure why I needed to explicitly cast this as an integer but oh well\n",
    "                        )\n",
    "session.add(data)\n",
    "session.commit()\n",
    "\n",
    "#fill in the rest of the data\n",
    "\n",
    "for i in range(1,len(hawaii_measurements)):\n",
    "\n",
    "    data = Measurements(\n",
    "                            id = i,\n",
    "                            station = hawaii_measurements.loc[i,'station'],\n",
    "                            date = datetime.strptime(hawaii_measurements.loc[i,'date'], '%Y-%m-%d'),\n",
    "                            prcp = hawaii_measurements.loc[i,'prcp'],\n",
    "                            tobs = int(hawaii_measurements.loc[i,'tobs'])\n",
    "                            )\n",
    "    session.add(data)\n",
    "    session.commit()"
   ]
  },
  {
   "cell_type": "code",
   "execution_count": null,
   "metadata": {},
   "outputs": [],
   "source": [
    "#Create and fill the Stations table in SQLite\n",
    "\n",
    "engine=create_engine(\"sqlite:///../hawaii.sqlite\")\n",
    "session=Session(bind=engine)\n",
    "\n",
    "#drop the table if it exists\n",
    "sql = text('DROP TABLE IF EXISTS stations;')\n",
    "result = engine.execute(sql)\n",
    "\n",
    "#Instantiate the table\n",
    "Base.metadata.create_all(engine)\n",
    "\n",
    "data = Stations(\n",
    "                        id = 0,\n",
    "                        station = hawaii_stations.loc[0,'station'],\n",
    "                        latitude = hawaii_stations.loc[0,'latitude'],\n",
    "                        longitude = hawaii_stations.loc[0,'longitude'],\n",
    "                        elevation = hawaii_stations.loc[0,'elevation']\n",
    "                        )\n",
    "session.add(data)\n",
    "session.commit()\n",
    "\n",
    "#fill in the rest of the data\n",
    "\n",
    "for i in range(1,len(hawaii_stations)):\n",
    "\n",
    "    data = Stations(\n",
    "                        id = i,\n",
    "                        station = hawaii_stations.loc[i,'station'],\n",
    "                        latitude = hawaii_stations.loc[i,'latitude'],\n",
    "                        longitude = hawaii_stations.loc[i,'longitude'],\n",
    "                        elevation = hawaii_stations.loc[i,'elevation']\n",
    "                            )\n",
    "    session.add(data)\n",
    "    session.commit()"
   ]
  },
  {
   "cell_type": "code",
   "execution_count": 119,
   "metadata": {},
   "outputs": [
    {
     "name": "stdout",
     "output_type": "stream",
     "text": [
      "65\n"
     ]
    }
   ],
   "source": [
    "# Query the database (testing to make sure it has stuff)\n",
    "results_list = session.query(Measurements)\n",
    "\n",
    "for thing in results_list:\n",
    "    print(thing.tobs)"
   ]
  },
  {
   "cell_type": "code",
   "execution_count": 46,
   "metadata": {},
   "outputs": [],
   "source": [
    "session.close()"
   ]
  }
 ],
 "metadata": {
  "kernelspec": {
   "display_name": "Python 3",
   "language": "python",
   "name": "python3"
  },
  "language_info": {
   "codemirror_mode": {
    "name": "ipython",
    "version": 3
   },
   "file_extension": ".py",
   "mimetype": "text/x-python",
   "name": "python",
   "nbconvert_exporter": "python",
   "pygments_lexer": "ipython3",
   "version": "3.6.3"
  }
 },
 "nbformat": 4,
 "nbformat_minor": 2
}
